{
 "cells": [
  {
   "cell_type": "markdown",
   "metadata": {},
   "source": [
    "# Linear algebra\n",
    "### Following the 3Blue1Brown Essence of Linear Algebra Course\n",
    "\n",
    "* [Video Playlist](https://www.youtube.com/playlist?list=PLZHQObOWTQDPD3MizzM2xVFitgF8hE_ab)"
   ]
  },
  {
   "cell_type": "markdown",
   "metadata": {},
   "source": [
    "## Chapter One: Vectors"
   ]
  },
  {
   "cell_type": "markdown",
   "metadata": {},
   "source": [
    "### How to create a numpy array"
   ]
  },
  {
   "cell_type": "code",
   "execution_count": 1,
   "metadata": {},
   "outputs": [
    {
     "data": {
      "text/plain": [
       "array([1, 2, 3])"
      ]
     },
     "execution_count": 1,
     "metadata": {},
     "output_type": "execute_result"
    }
   ],
   "source": [
    "\n",
    "import numpy as np\n",
    "np.array([1, 2, 3])"
   ]
  },
  {
   "cell_type": "markdown",
   "metadata": {},
   "source": [
    "### Operations: addition"
   ]
  },
  {
   "cell_type": "code",
   "execution_count": 6,
   "metadata": {},
   "outputs": [
    {
     "data": {
      "text/plain": [
       "array([5, 7, 9])"
      ]
     },
     "execution_count": 6,
     "metadata": {},
     "output_type": "execute_result"
    }
   ],
   "source": [
    "import numpy as np\n",
    "a = np.array([1, 2, 3])\n",
    "b = np.array([4, 5, 6])\n",
    "\n",
    "# Function syntax\n",
    "np.add(a, b)\n",
    "\n",
    "# Operator syntax\n",
    "a + b"
   ]
  },
  {
   "cell_type": "markdown",
   "metadata": {},
   "source": [
    "### Operators: multiplication"
   ]
  },
  {
   "cell_type": "code",
   "execution_count": 11,
   "metadata": {},
   "outputs": [
    {
     "data": {
      "text/plain": [
       "array([ 4,  8, 12])"
      ]
     },
     "execution_count": 11,
     "metadata": {},
     "output_type": "execute_result"
    }
   ],
   "source": [
    "import numpy as np\n",
    "a = np.array([1, 2, 3])\n",
    "b = 4\n",
    "\n",
    "# Function syntax\n",
    "np.multiply(a, b)\n",
    "\n",
    "# Operator syntax\n",
    "a * b"
   ]
  },
  {
   "cell_type": "markdown",
   "metadata": {},
   "source": [
    "## Chapter 2: Spans\n",
    "Not really anything to cover here programming wise, it was mostly new core concepts:\n",
    "\n",
    "* Linear Combination: An expression formed by multiplying vectors by scalars and adding the results. For example, given vectors v and w, any vector of the form a·v + b·w (where a and b are scalars) is a linear combination of v and w.\n",
    "\n",
    "* Span: The set of all possible linear combinations of a given set of vectors. For instance, the span of vectors v and w includes all vectors that can be expressed as a·v + b·w for all real numbers a and b.\n",
    "\n",
    "* Basis Vectors: A set of linearly independent vectors that span a vector space. In two-dimensional space, the standard basis vectors are typically denoted as î and ĵ, corresponding to the unit vectors along the x-axis and y-axis, respectively.\n",
    "3blue1brown.com\n",
    "\n",
    "* Linear Dependence: A situation where at least one vector in a set can be expressed as a linear combination of the others. This implies redundancy in the set, as some vectors do not add new directions to the span.\n",
    "3blue1brown.com\n",
    "\n",
    "* Linear Independence: A condition where no vector in a set can be written as a linear combination of the others. This ensures that each vector adds a new dimension to the span, making the set a suitable basis for the space.\n"
   ]
  },
  {
   "cell_type": "markdown",
   "metadata": {},
   "source": [
    "# Chapter 3: Linear Transformations and Matrices"
   ]
  },
  {
   "cell_type": "markdown",
   "metadata": {},
   "source": [
    "### Initializing 2x2 matrices\n",
    "\n",
    "So in numpy, arrays matrices are described in row-major order (also called C-order), meaning the first index refers to the row and the second index refers to the column. When you create or view a 2D array in NumPy, each inner sequence corresponds to a row, and each element within that sequence corresponds to a column entry.\n",
    "\n",
    "So if you've got a 2x2 matrix, you need to enter it ROW first, not column-first.\n"
   ]
  },
  {
   "cell_type": "code",
   "execution_count": 28,
   "metadata": {},
   "outputs": [
    {
     "data": {
      "text/plain": [
       "array([[ 3,  2],\n",
       "       [-2,  1]])"
      ]
     },
     "execution_count": 28,
     "metadata": {},
     "output_type": "execute_result"
    }
   ],
   "source": [
    "import numpy as np\n",
    "\n",
    "# 2x2 Transformation matrix (columns are i-hat and j-hat)\n",
    "# \n",
    "#    3  2  \n",
    "#   -2  1  \n",
    "# \n",
    "# Which you could read as:\n",
    "#\n",
    "#   i-hat is x=3, y=-2\n",
    "#   j-hat is x=2, y=1\n",
    "#\n",
    "# Both the x's go first in numpy, then the y's\n",
    "#\n",
    "#   np.array([[ix, jx], [iy, jy]])\n",
    "#\n",
    "\n",
    "np.array([[3, 2], [-2, 1]])"
   ]
  },
  {
   "cell_type": "markdown",
   "metadata": {},
   "source": [
    "### Matrix vector multiplication"
   ]
  },
  {
   "cell_type": "code",
   "execution_count": 6,
   "metadata": {},
   "outputs": [
    {
     "data": {
      "text/plain": [
       "array([ 1, 17])"
      ]
     },
     "execution_count": 6,
     "metadata": {},
     "output_type": "execute_result"
    }
   ],
   "source": [
    "import numpy as np\n",
    "\n",
    "# Any Old Vector\n",
    "# Note: this might not be right. Maybe it should be np.array([[5],[7]])?\n",
    "v = np.array([5, 7])\n",
    "\n",
    "# 2x2 Transformation matrix (columns are i-hat and j-hat)\n",
    "#   i-hat is [3, -2]\n",
    "#   j-hat is [2, 1]\n",
    "\n",
    "t = np.array([[3, 2],\n",
    "              [-2, 1]])\n",
    "\n",
    "# Shorthand operator\n",
    "t @ v\n",
    "\n",
    "# Alternate syntax\n",
    "np.dot(t, v)"
   ]
  },
  {
   "cell_type": "markdown",
   "metadata": {},
   "source": [
    "# Chapter 4: Matrix multiplication as composition"
   ]
  },
  {
   "cell_type": "code",
   "execution_count": 22,
   "metadata": {},
   "outputs": [
    {
     "name": "stdout",
     "output_type": "stream",
     "text": [
      "[[ 0 -1]\n",
      " [ 1  1]]\n",
      "[[ 1 -1]\n",
      " [ 1  0]]\n",
      "[[-2]\n",
      " [ 5]]\n"
     ]
    }
   ],
   "source": [
    "import numpy as np\n",
    "\n",
    "shear_matrix = np.array([[1, 1],\n",
    "                         [0, 1]])\n",
    "rotation_matrix = np.array([[0, -1],\n",
    "                            [1, 0]])\n",
    "\n",
    "# Note that the order the matrices are multiplied is important.\n",
    "# Matrix multiplication is not commutative.\n",
    "\n",
    "print(rotation_matrix @ shear_matrix)\n",
    "print(shear_matrix @ rotation_matrix)\n",
    "\n",
    "# Let's say we have a couple transformations we want to apply\n",
    "# to a vector.\n",
    "#\n",
    "#     [1 1]          [0 -1]          [5]\n",
    "#     [0 1]          [1  0]          [7]\n",
    "# shear_matrix   rotation_matrix      v\n",
    "#\n",
    "\n",
    "v = np.array([[5], [7]])\n",
    "\n",
    "print(shear_matrix @ rotation_matrix @ v)\n",
    "\n",
    "# Equivalent to:\n",
    "# np.dot(np.dot(shear_matrix, rotation_matrix), v)\n"
   ]
  },
  {
   "cell_type": "markdown",
   "metadata": {},
   "source": [
    "# Chapter 5: Three-dimensional Linear Transformations"
   ]
  },
  {
   "cell_type": "code",
   "execution_count": 23,
   "metadata": {},
   "outputs": [
    {
     "name": "stdout",
     "output_type": "stream",
     "text": [
      "[[ 6  6  6]\n",
      " [33 44 55]\n",
      " [ 6 10 14]]\n"
     ]
    }
   ],
   "source": [
    "import numpy as np\n",
    "\n",
    "second_transformation = np.array([[0, -2, 2],\n",
    "                                  [5, 1, 5],\n",
    "                                  [1, 4, -1]])\n",
    "\n",
    "first_transformation = np.array([[0, 1, 2],\n",
    "                                 [3, 4, 5],\n",
    "                                 [6, 7, 8]])\n",
    "\n",
    "print(second_transformation @ first_transformation)\n"
   ]
  },
  {
   "cell_type": "markdown",
   "metadata": {},
   "source": [
    "# Chapter 6: Determinants\n",
    "\n",
    "Some linear transformations stretch space out and other squish space in. One thing that's useful for understanding these linear transformations is to measure exactly how much it stretches or squishes things.\n",
    "\n",
    "More specifically, to measure the factor of the area of a given region increases or decreases.\n",
    "\n",
    "This scaling factor by which a linear transformation changes any area is called the **determinant** of the transformation.\n",
    "\n",
    "Key things indicated by determinant values:\n",
    "\n",
    "* Values greater than 1.0 are scaling upwards\n",
    "* Values of 1.0 are isometry unity, no area change.\n",
    "* Values of greater than 0 but less than 1 means it contracts\n",
    "* Values of 0 means that the transformation collapses the space into a lower dimension, at least one vector has become linearly dependent, or the transformation maps some non-zero vectors to zero.\n",
    "* Values in the negatives mean all the above, but also that it has also reversed orientation.\n"
   ]
  },
  {
   "cell_type": "code",
   "execution_count": 25,
   "metadata": {},
   "outputs": [
    {
     "data": {
      "text/plain": [
       "np.float64(6.0)"
      ]
     },
     "execution_count": 25,
     "metadata": {},
     "output_type": "execute_result"
    }
   ],
   "source": [
    "import numpy as np\n",
    "\n",
    "matrix = np.array([[3, 0],\n",
    "                   [0, 2]])\n",
    "np.linalg.det(matrix)\n"
   ]
  },
  {
   "cell_type": "markdown",
   "metadata": {},
   "source": [
    "# Chapter 7: Inverse matrices, column space and null space"
   ]
  },
  {
   "cell_type": "code",
   "execution_count": 34,
   "metadata": {},
   "outputs": [
    {
     "name": "stdout",
     "output_type": "stream",
     "text": [
      "inverse_matrix\n",
      "[[ 0.75 -0.5 ]\n",
      " [-0.25  0.5 ]]\n",
      "\n",
      "x_vector\n",
      "[[-2.5]\n",
      " [ 0.5]]\n"
     ]
    },
    {
     "data": {
      "text/plain": [
       "array([[ True],\n",
       "       [ True]])"
      ]
     },
     "execution_count": 34,
     "metadata": {},
     "output_type": "execute_result"
    }
   ],
   "source": [
    "import numpy as np\n",
    "\n",
    "# Let's say you have equations:\n",
    "#  2x + 2y = -4\n",
    "#  1x + 3y = -1\n",
    "\n",
    "# We can represent this as a matrix equation:\n",
    "#  [2 2] [x] = [-4]\n",
    "#  [1 3] [y]   [-1]\n",
    "\n",
    "# We can solve this by finding the inverse of the matrix\n",
    "# and multiplying it by the constant vector.\n",
    "\n",
    "matrix = np.array([[2, 2],\n",
    "                   [1, 3]])\n",
    "\n",
    "constant_vector = np.array([[-4], [-1]])\n",
    "\n",
    "# inverse of matrix\n",
    "inverse_matrix = np.linalg.inv(matrix)\n",
    "print(f\"inverse_matrix\\n{inverse_matrix}\")\n",
    "\n",
    "# multiply inverse matrix by constant vector to get x_vector\n",
    "x_vector = inverse_matrix @ constant_vector\n",
    "print(f\"\\nx_vector\\n{x_vector}\")\n",
    "\n",
    "# Let's check our work\n",
    "matrix @ x_vector == constant_vector\n"
   ]
  },
  {
   "cell_type": "code",
   "execution_count": 36,
   "metadata": {},
   "outputs": [
    {
     "name": "stdout",
     "output_type": "stream",
     "text": [
      "x_vector\n",
      "[[ 5.42857143]\n",
      " [-1.14285714]\n",
      " [-2.71428571]]\n",
      "\n"
     ]
    },
    {
     "data": {
      "text/plain": [
       "array([[ True],\n",
       "       [ True],\n",
       "       [ True]])"
      ]
     },
     "execution_count": 36,
     "metadata": {},
     "output_type": "execute_result"
    }
   ],
   "source": [
    "# Also works in higher dimensions\n",
    "import numpy as np\n",
    "\n",
    "matrix = np.array([[2, 5, 3],\n",
    "                   [4, 0, 8],\n",
    "                   [1, 3, 0]])\n",
    "\n",
    "inverse_matrix = np.linalg.inv(matrix)\n",
    "\n",
    "constant_vector = np.array([[-3],\n",
    "                            [0],\n",
    "                            [2]])\n",
    "\n",
    "x_vector = inverse_matrix @ constant_vector\n",
    "print(f\"x_vector\\n{x_vector}\\n\")\n",
    "\n",
    "# Let's check our work\n",
    "matrix @ x_vector == constant_vector\n",
    "\n",
    "\n",
    "\n"
   ]
  },
  {
   "cell_type": "code",
   "execution_count": 43,
   "metadata": {},
   "outputs": [
    {
     "name": "stdout",
     "output_type": "stream",
     "text": [
      "matrix\n",
      "[[1 0]\n",
      " [0 1]]\n",
      "rank: 2\n",
      "\n",
      "collapsed_matrix\n",
      "[[1 0]\n",
      " [0 0]]\n",
      "rank: 1\n",
      "\n",
      "linearly_dependent_matrix\n",
      "[[1 2]\n",
      " [0 0]]\n",
      "rank: 1\n",
      "\n",
      "zero_point_matrix\n",
      "[[0 0]\n",
      " [0 0]]\n",
      "rank: 0\n",
      "\n"
     ]
    }
   ],
   "source": [
    "import numpy as np\n",
    "\n",
    "matrix = np.array([[1, 0],\n",
    "                   [0, 1]])\n",
    "rank = np.linalg.matrix_rank(matrix)\n",
    "print(f\"matrix\\n{matrix}\\nrank: {rank}\\n\")\n",
    "\n",
    "collapsed_matrix = np.array([[1, 0],\n",
    "                             [0, 0]])\n",
    "rank = np.linalg.matrix_rank(collapsed_matrix)\n",
    "print(f\"collapsed_matrix\\n{collapsed_matrix}\\nrank: {rank}\\n\")\n",
    "\n",
    "linearly_dependent_matrix = np.array([[1, 2],\n",
    "                                      [0, 0]])\n",
    "rank = np.linalg.matrix_rank(linearly_dependent_matrix)\n",
    "print(f\"linearly_dependent_matrix\\n{linearly_dependent_matrix}\\nrank: {rank}\\n\")\n",
    "\n",
    "zero_point_matrix = np.array([[0, 0],\n",
    "                              [0, 0]])\n",
    "rank = np.linalg.matrix_rank(zero_point_matrix)\n",
    "print(f\"zero_point_matrix\\n{zero_point_matrix}\\nrank: {rank}\\n\")\n",
    "\n"
   ]
  },
  {
   "cell_type": "markdown",
   "metadata": {},
   "source": [
    "# Chapter 8: Non-square Matrices\n",
    "It's totally possible to have a transformation that goes from a 2d space to a 3d space, 3d to 1d space, etc."
   ]
  },
  {
   "cell_type": "code",
   "execution_count": 2,
   "metadata": {},
   "outputs": [
    {
     "data": {
      "text/plain": [
       "array([[18],\n",
       "       [ 5],\n",
       "       [ 3]])"
      ]
     },
     "execution_count": 2,
     "metadata": {},
     "output_type": "execute_result"
    }
   ],
   "source": [
    "import numpy as np\n",
    "\n",
    "input = np.array([[2],\n",
    "                  [7]])\n",
    "transformation_matrix = np.array([[2, 2],\n",
    "                                  [-1, 1],\n",
    "                                  [-2, 1]])\n",
    "transformation_matrix @ input\n"
   ]
  },
  {
   "cell_type": "markdown",
   "metadata": {},
   "source": [
    "# Chapter 9: Dot products and duality"
   ]
  },
  {
   "cell_type": "code",
   "execution_count": 54,
   "metadata": {},
   "outputs": [
    {
     "name": "stdout",
     "output_type": "stream",
     "text": [
      "38\n",
      "38\n",
      "[38]\n"
     ]
    }
   ],
   "source": [
    "import numpy as np\n",
    "\n",
    "a = np.array([2, 7, 1])\n",
    "b = np.array([8, 2, 8])\n",
    "\n",
    "# you can also use the shorthand operator here: a @ b\n",
    "print(a.dot(b))\n",
    "\n",
    "# tip the vector b on its side to become a matrix\n",
    "# you could also do: m = b.reshape(1, -1)\n",
    "m = np.array([[8, 2, 8]])\n",
    "\n",
    "print(m.dot(a))"
   ]
  },
  {
   "cell_type": "markdown",
   "metadata": {},
   "source": [
    "# Chapter 10 & 11: cross products"
   ]
  },
  {
   "cell_type": "code",
   "execution_count": 6,
   "metadata": {},
   "outputs": [
    {
     "name": "stdout",
     "output_type": "stream",
     "text": [
      "[-3  6 -3]\n",
      "6\n",
      "6.0\n"
     ]
    }
   ],
   "source": [
    "import numpy as np\n",
    "\n",
    "# 3d cross product\n",
    "vector_a = np.array([1, 2, 3])\n",
    "vector_b = np.array([4, 5, 6])\n",
    "cross_product = np.cross(vector_a, vector_b)\n",
    "print(cross_product)  # Output: [-3  6 -3]\n",
    "\n",
    "# 2d cross product\n",
    "def cross2d(x, y):\n",
    "    return x[0] * y[1] - x[1] * y[0]\n",
    "a = np.array([2, 4])\n",
    "b = np.array([1, 5])\n",
    "print(cross2d(a, b)) # Output: 6\n",
    "\n",
    "# Note: you can do this, but it'll throw a deprecation warning: result = np.cross(a, b)\n",
    "\n",
    "# In the 2d case, the cross product is the same as the determinant of the matrix formed by the two vectors\n",
    "det_result = np.linalg.det(np.array([[a[0], b[0]],\n",
    "                                     [a[1], b[1]]]))\n",
    "print(det_result) # Output: 6\n",
    "\n"
   ]
  },
  {
   "cell_type": "markdown",
   "metadata": {},
   "source": [
    "# Chapter 12 - Was about Cramer's rule expressed geometrically\n",
    "Honestly I skimmed it and then watched a different video on how to compute it. The geometric explanation was not landing for me."
   ]
  },
  {
   "cell_type": "markdown",
   "metadata": {},
   "source": [
    "# Chapter 13 - Changes of Basis"
   ]
  },
  {
   "cell_type": "code",
   "execution_count": 10,
   "metadata": {},
   "outputs": [
    {
     "name": "stdout",
     "output_type": "stream",
     "text": [
      "v in jen's system in our system:\n",
      "[[-4]\n",
      " [ 1]]\n",
      "rotated @ translated vector in our system:\n",
      "[[-1]\n",
      " [-4]]\n",
      "rotated @ translated vector back in her system:\n",
      "[[-1.66666667]\n",
      " [-2.33333333]]\n",
      "rotated @ translated vector back in our system:\n",
      "[[-1.]\n",
      " [-4.]]\n"
     ]
    }
   ],
   "source": [
    "import numpy as np\n",
    "\n",
    "v_in_jens_system = np.array([[-1],[2]])\n",
    "change_of_basis_matrix = np.array([[2, -1], \n",
    "                                   [1, 1]])\n",
    "\n",
    "print(\"v in jen's system in our system:\")\n",
    "print(change_of_basis_matrix @ v_in_jens_system)\n",
    "\n",
    "rotation_matrix_in_our_system = np.array([[0, -1], \n",
    "                                          [1, 0]])\n",
    "print(\"rotated @ translated vector in our system:\")\n",
    "print(rotation_matrix_in_our_system @ change_of_basis_matrix @ v_in_jens_system)\n",
    "\n",
    "print(\"rotated @ translated vector back in her system:\")\n",
    "print(np.linalg.inv(change_of_basis_matrix) @ rotation_matrix_in_our_system @ change_of_basis_matrix @ v_in_jens_system)\n",
    "\n",
    "print(\"rotated @ translated vector back in our system again (for funsies):\")\n",
    "print(change_of_basis_matrix @ np.linalg.inv(change_of_basis_matrix) @ rotation_matrix_in_our_system @ change_of_basis_matrix @ v_in_jens_system)\n"
   ]
  },
  {
   "cell_type": "markdown",
   "metadata": {},
   "source": [
    "# Chapter 14 Eigenvectors and Eigenvalues"
   ]
  },
  {
   "cell_type": "code",
   "execution_count": 2,
   "metadata": {},
   "outputs": [
    {
     "name": "stdout",
     "output_type": "stream",
     "text": [
      "[-1.  4.]\n",
      "[[-0.89442719 -0.4472136 ]\n",
      " [ 0.4472136  -0.89442719]]\n"
     ]
    }
   ],
   "source": [
    "import numpy as np\n",
    "\n",
    "A = np.array([[0, 2],\n",
    "              [2, 3]])  # 2x2 matrix\n",
    "\n",
    "eigenvalues, eigenvectors = np.linalg.eig(A)\n",
    "print(eigenvalues)\n",
    "print(eigenvectors)\n"
   ]
  },
  {
   "cell_type": "markdown",
   "metadata": {},
   "source": [
    "# Bonus: How to calculate SVD"
   ]
  },
  {
   "cell_type": "code",
   "execution_count": 3,
   "metadata": {},
   "outputs": [
    {
     "name": "stdout",
     "output_type": "stream",
     "text": [
      "U matrix:\n",
      " [[-0.3863177  -0.92236578]\n",
      " [-0.92236578  0.3863177 ]]\n",
      "Singular values: [9.508032   0.77286964]\n",
      "V^T matrix:\n",
      " [[-0.42866713 -0.56630692 -0.7039467 ]\n",
      " [ 0.80596391  0.11238241 -0.58119908]\n",
      " [ 0.40824829 -0.81649658  0.40824829]]\n"
     ]
    }
   ],
   "source": [
    "import numpy as np\n",
    "\n",
    "# Define your matrix\n",
    "A = np.array([[1, 2, 3], [4, 5, 6]])\n",
    "\n",
    "# Compute the SVD\n",
    "U, S, Vt = np.linalg.svd(A)\n",
    "\n",
    "print(\"U matrix:\\n\", U)\n",
    "print(\"Singular values:\", S)\n",
    "print(\"V^T matrix:\\n\", Vt)"
   ]
  },
  {
   "cell_type": "code",
   "execution_count": null,
   "metadata": {},
   "outputs": [],
   "source": []
  }
 ],
 "metadata": {
  "kernelspec": {
   "display_name": "venv",
   "language": "python",
   "name": "python3"
  },
  "language_info": {
   "codemirror_mode": {
    "name": "ipython",
    "version": 3
   },
   "file_extension": ".py",
   "mimetype": "text/x-python",
   "name": "python",
   "nbconvert_exporter": "python",
   "pygments_lexer": "ipython3",
   "version": "3.13.4"
  }
 },
 "nbformat": 4,
 "nbformat_minor": 2
}
